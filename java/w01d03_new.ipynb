{
 "cells": [
  {
   "cell_type": "markdown",
   "metadata": {},
   "source": [
    "**Code Blocks**\n",
    "- https://docs.oracle.com/javase/tutorial/java/nutsandbolts/expressions.html\n",
    "- Scope"
   ]
  },
  {
   "cell_type": "markdown",
   "metadata": {},
   "source": [
    "**Creating and Using Arrays**\n",
    "- https://docs.oracle.com/javase/tutorial/java/nutsandbolts/arrays.html\n",
    "- Show with debugger in eclipse\n",
    "\n",
    "**Looping through arrays with for**\n",
    "\n",
    "- for(init; check; update)\n",
    "    - seperated by semicolon\n",
    "    - check and update may contain multiple statements\n",
    "    - varibale in init only visible in for loop\n",
    "    - check is evaluated before each loop\n",
    "    - https://docs.oracle.com/javase/tutorial/java/nutsandbolts/for.html\n",
    "- for each\n",
    "    - https://docs.oracle.com/javase/8/docs/technotes/guides/language/foreach.html"
   ]
  },
  {
   "cell_type": "raw",
   "metadata": {},
   "source": [
    "for(int i = 0; i <= 10; i++) {\n",
    "    System.out.println(i);\n",
    "}\n",
    "\n",
    "int i = 0;\n",
    "System.out.println(i);\n",
    "for(i = 0; i <= 10; i++) {\n",
    "    System.out.println(i);\n",
    "}\n",
    "System.out.println(i);\n",
    "\n",
    "//infinite loop\n",
    "//for( ; ; ) {\n",
    "// System.out.println(\"Hello World\");\n",
    "//}\n",
    "\n",
    "for(int i = 0, j = 0; i <= 10 && i <= 5; i++, j++) {\n",
    "    System.out.println(i);\n",
    "}\n",
    "\n",
    "int i = 0; // this should not work - try in eclipse\n",
    "for(int i = 0; i <= 10; i++) { // error\n",
    "    System.out.println(i);\n",
    "}\n",
    "\n",
    "for(int i = 0, long j = 0; i <= 10 && i <= 5; i++, j++) {\n",
    "    System.out.println(i);\n",
    "}\n",
    "\n",
    "int[] myarray = new int[10];\n",
    "for(int i = 0; i < myarray.length; i++) {\n",
    "    myarray[i] = i * i;\n",
    "}\n",
    "\n",
    "for(int i = 0; i < myarray.length; i++) {\n",
    "    System.out.println(myarray[i]);\n",
    "}"
   ]
  },
  {
   "cell_type": "markdown",
   "metadata": {},
   "source": [
    "**Exercise**\n",
    "- Counting random numbers"
   ]
  },
  {
   "cell_type": "markdown",
   "metadata": {},
   "source": [
    "**Using if/else**\n",
    "- https://docs.oracle.com/javase/tutorial/java/nutsandbolts/if.html"
   ]
  },
  {
   "cell_type": "raw",
   "metadata": {},
   "source": [
    "//debug in eclipse\n",
    "int i = 0;\n",
    "\n",
    "if(i == 0) {\n",
    "    i = i + 1;\n",
    "    System.out.println(\"if\");\n",
    "}\n",
    "\n",
    "System.out.println(i);\n",
    "\n",
    "i=1;\n",
    "if(i == 0)\n",
    "    i = i + 1;\n",
    "    System.out.println(i);\n",
    "\n",
    "System.out.println(i);\n",
    "\n",
    "if(i == 0) {\n",
    "    i = i + 1;\n",
    "    System.out.println(\"if\");\n",
    "} else {\n",
    "    i = i + 2;\n",
    "    System.out.println(\"else\");\n",
    "}\n",
    "\n",
    "System.out.println(i);\n",
    "\n",
    "if(i == 0) {\n",
    "    i = i + 1;\n",
    "    System.out.println(\"if\");\n",
    "} else if (i == 3) {\n",
    "    i = i + 3;\n",
    "    System.out.println(\"else if\");\n",
    "}\n",
    "else {\n",
    "    i = i + 2;\n",
    "    System.out.println(\"else\");\n",
    "}\n",
    "\n",
    "System.out.println(i);\n",
    "\n",
    "if(i == 6 && i % 2 == 0) {\n",
    "    i = i + 1;\n",
    "    System.out.println(\"if\");\n",
    "}\n",
    "\n",
    "System.out.println(i);\n",
    "\n",
    "boolean check = i == 7;\n",
    "\n",
    "if(check) {\n",
    "    i = i + 1;\n",
    "    System.out.println(\"if\");\n",
    "}\n",
    "\n",
    "System.out.println(i);"
   ]
  },
  {
   "cell_type": "markdown",
   "metadata": {},
   "source": [
    "**Exercise**\n",
    "- https://www.geeksforgeeks.org/ways-to-read-input-from-console-in-java/\n",
    "- Floating point comparison\n",
    "\n",
    "**Ternary Operator**\n",
    "\n",
    "- https://docs.oracle.com/javase/tutorial/java/nutsandbolts/op2.html"
   ]
  },
  {
   "cell_type": "raw",
   "metadata": {},
   "source": [
    "//explain conditional operator ?, ternary Operator\n",
    "int y = 10;\n",
    "int x;\n",
    "\n",
    "if(y > 5) {\n",
    "    x = 2 * y;\n",
    "} else {\n",
    "    x = 3 * y;\n",
    "}\n",
    "\n",
    "//this can be written shorter\n",
    "int x2 = (y > 5) ? (2 * y) : (3 * y);\n",
    "\n",
    "int x3 = y > 5 ? 2 * y : 3 * y; // not easy readable\n",
    "\n",
    "//y > 5 ? y = 1 : y = 2; //does not work, returns no value\n",
    "System.out.println((y > 5) ? (2 * y) : \"mystring\"); //works\n",
    "//int x2 = (y > 5) ? (2 * y) : \"mystring\"; //does not work, wrong type"
   ]
  },
  {
   "cell_type": "markdown",
   "metadata": {},
   "source": [
    "**Exercise**\n",
    "- Guten Morgen, Guten Tag, Guten Abend - Ternary\n",
    "\n",
    "**While/Do While**\n",
    "- https://docs.oracle.com/javase/tutorial/java/nutsandbolts/while.html\n",
    "\n",
    "**Exercise**\n",
    "\n",
    "- Hangman game"
   ]
  },
  {
   "cell_type": "markdown",
   "metadata": {},
   "source": [
    "**Branching Statements**\n",
    "- https://docs.oracle.com/javase/tutorial/java/nutsandbolts/branch.html\n",
    "\n",
    "**Exercise**\n",
    "\n",
    "- Find the treasure in a 1000x1000x1000 array by iterating"
   ]
  },
  {
   "cell_type": "markdown",
   "metadata": {},
   "source": [
    "**Switch**\n",
    "\n",
    "Only compile time constant value in case allowed\n",
    "\n",
    "Accepted types:\n",
    "- int and Integer\n",
    "- byte and Byte\n",
    "- short and Short\n",
    "- char and Character\n",
    "- int and Integer\n",
    "- String\n",
    "- enum values\n",
    "\n",
    "https://docs.oracle.com/javase/tutorial/java/nutsandbolts/switch.html"
   ]
  },
  {
   "cell_type": "markdown",
   "metadata": {},
   "source": [
    "**Exercise**\n",
    "- Estimate wealth via switch statement\n",
    "- 4 wins game\n",
    "- Bonus: Build a 4 win 'AI'"
   ]
  },
  {
   "cell_type": "code",
   "execution_count": null,
   "metadata": {},
   "outputs": [],
   "source": []
  }
 ],
 "metadata": {
  "kernelspec": {
   "display_name": "Python 3",
   "language": "python",
   "name": "python3"
  },
  "language_info": {
   "codemirror_mode": {
    "name": "ipython",
    "version": 3
   },
   "file_extension": ".py",
   "mimetype": "text/x-python",
   "name": "python",
   "nbconvert_exporter": "python",
   "pygments_lexer": "ipython3",
   "version": "3.7.6"
  }
 },
 "nbformat": 4,
 "nbformat_minor": 4
}
