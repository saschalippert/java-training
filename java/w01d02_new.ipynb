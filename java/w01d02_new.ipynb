{
 "cells": [
  {
   "cell_type": "markdown",
   "metadata": {},
   "source": [
    "**Eclipse**\n",
    "- General\n",
    "    - Editors\n",
    "    - Views\n",
    "    - Perspective\n",
    "    - Plugins\n",
    "    - Reset perspective\n",
    "    \n",
    "    \n",
    "- Java\n",
    "    - Package explorer view\n",
    "    - Outline view\n",
    "    - Problems view\n",
    "    - Editor linking\n",
    "    - Package representation\n",
    "    \n",
    "    \n",
    "- Project\n",
    "    - Create new java project\n",
    "    - Import existing project\n",
    "    - Close/Open project\n",
    "    - Use 3rd party jar\n",
    "    - Exporting jars\n",
    "    - Reference projects\n",
    "    - Eclipse settings files\n",
    "    \n",
    "    \n",
    "- Shortcuts\n",
    "    - Open type\n",
    "    - Open ressource\n",
    "    - Quick outline\n",
    "    - Type hierarchy\n",
    "    - Call hierarchy\n",
    "    - Text search\n",
    "    \n",
    "\n",
    "- Source code management\n",
    "    - Format code\n",
    "    - Organize imports\n",
    "    - Local history\n",
    "    - Generate code\n",
    "    - Auto complete\n",
    "    - Quickfix\n",
    "    \n",
    "    \n",
    "- Debugger\n",
    "\n",
    "\n",
    "- Git plugin\n",
    "\n",
    "\n",
    "- Install plugins\n",
    "\n",
    "\n",
    "- https://www.vogella.com/tutorials/Eclipse/article.html"
   ]
  },
  {
   "cell_type": "markdown",
   "metadata": {},
   "source": [
    "**Primitives & Variables**"
   ]
  },
  {
   "cell_type": "markdown",
   "metadata": {},
   "source": [
    "- https://www.w3schools.com/java/java_data_types.asp\n",
    "- https://docs.oracle.com/javase/tutorial/java/nutsandbolts/datatypes.html\n",
    "- https://www.geeksforgeeks.org/literals-in-java/\n",
    "- Primitives do not implement any methods\n",
    "- Primitives cannot be null\n",
    "- Local vars need to be initialized before usage"
   ]
  },
  {
   "cell_type": "raw",
   "metadata": {},
   "source": [
    "//explain type, reference, constructor\n",
    "int i = 5;\n",
    "Random r = new Random();"
   ]
  },
  {
   "cell_type": "raw",
   "metadata": {},
   "source": [
    "// Detailed usage of capital case \"primitives\" is explained later\n",
    "\n",
    "System.out.println(Integer.MIN_VALUE);\n",
    "System.out.println(Integer.MAX_VALUE);\n",
    "System.out.println(Long.MIN_VALUE);\n",
    "System.out.println(Long.MAX_VALUE);\n",
    "    \n",
    "/*System.out.println(Float.MIN_VALUE);\n",
    "System.out.println(Float.MAX_VALUE);\n",
    "System.out.println(Double.MIN_VALUE);\n",
    "System.out.println(Double.MAX_VALUE);\n",
    "System.out.println(Long.MIN_VALUE);\n",
    "System.out.println(Long.MAX_VALUE);*/\n",
    "\n",
    "long a = 3123456789L;\n",
    "//long b = 3123456789L; //3123456789l\n",
    "//System.out.println(b);\n",
    "\n",
    "System.out.println(56); // 56 dec 10⁰ * 6 + 10¹ * 5 = 56\n",
    "System.out.println(0b11); // 3 bin 2⁰ * 1 + 2¹ *1 = 3\n",
    "System.out.println(017); // 15 oct 8⁰ * 7 + 8¹ * 1 = 15\n",
    "System.out.println(0x1F); // 31 hex 16⁰ * 15 + 16¹ * 1 = 31"
   ]
  },
  {
   "cell_type": "raw",
   "metadata": {},
   "source": [
    "int a; // declaration\n",
    "a = 2; // assignment/init\n",
    "int f = 4; // declaration + assignment one line\n",
    "int b, c; // multi declaration\n",
    "b = 1; // assignment/init\n",
    "c = 2; // assignment/init\n",
    "int d = 1, e = 3; // muti declaration + assignment one line\n",
    "\n",
    "int i1, i2, i3 = 4;\n",
    "String s1, int i4; // diffrent types do no work\n",
    "i4 = 5;"
   ]
  },
  {
   "cell_type": "markdown",
   "metadata": {},
   "source": [
    "- Casting primitives\n",
    "    - Implicit casting\n",
    "    - Explicit casting\n",
    "    - https://www.w3schools.com/java/java_type_casting.asp"
   ]
  },
  {
   "cell_type": "markdown",
   "metadata": {},
   "source": [
    "- Variable identifiers\n",
    "    - Begin with a letter or $ or _\n",
    "    - Subsequent numbers are allowed too\n",
    "    - No keywords allowed\n",
    "        - https://www.javatpoint.com/java-keywords\n",
    "    - Case sensitive\n",
    "    - https://www.geeksforgeeks.org/java-identifiers/\n",
    "    \n",
    "    \n",
    "- General Java naming conventions\n",
    "    - https://www.oreilly.com/library/view/java-8-pocket/9781491901083/ch01.html"
   ]
  },
  {
   "cell_type": "raw",
   "metadata": {},
   "source": [
    "//What do you thik will work?\n",
    "int __Sasdasd$; //ok\n",
    "int identifier; //ok\n",
    "int hollywood@vine; //nok\n",
    "int $2Identifier; //ok\n",
    "int Class; //ok\n",
    "int 3DPointClass; //nok\n",
    "int *$coffee; //nok\n",
    "int _1d3ntifi3r; //ok\n",
    "int public; //nok"
   ]
  },
  {
   "cell_type": "raw",
   "metadata": {},
   "source": [
    "int million1 = 1000000;\n",
    "int million2 = 1_000_000;\n",
    "//double notAtStart = _1000.00; // DOES NOT COMPILE\n",
    "//double notAtEnd = 1000.00_; // DOES NOT COMPILE\n",
    "//double notByDecimal = 1000_.00; // DOES NOT COMPILE\n",
    "//double notByDecimal = 1000._00; // DOES NOT COMPILE\n",
    "double legal = 1_00_0.0_0; // this one compiles "
   ]
  },
  {
   "cell_type": "markdown",
   "metadata": {},
   "source": [
    "https://docs.oracle.com/javase/tutorial/java/nutsandbolts/operators.html"
   ]
  }
 ],
 "metadata": {
  "kernelspec": {
   "display_name": "Python 3",
   "language": "python",
   "name": "python3"
  },
  "language_info": {
   "codemirror_mode": {
    "name": "ipython",
    "version": 3
   },
   "file_extension": ".py",
   "mimetype": "text/x-python",
   "name": "python",
   "nbconvert_exporter": "python",
   "pygments_lexer": "ipython3",
   "version": "3.7.6"
  }
 },
 "nbformat": 4,
 "nbformat_minor": 4
}
