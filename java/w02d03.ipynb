{
 "cells": [
  {
   "cell_type": "markdown",
   "metadata": {},
   "source": [
    "- JavaDoc order and important tags\n",
    "    - @author (classes and interfaces only, required)\n",
    "    - @version (classes and interfaces only, required. See footnote 1)\n",
    "    - @param (methods and constructors only)\n",
    "    - @return (methods only)\n",
    "    - @exception (@throws is a synonym added in Javadoc 1.2)\n",
    "    - @see\n",
    "    - @since\n",
    "    - @deprecated (see How and When To Deprecate APIs)\n",
    "    - https://www.baeldung.com/javadoc\n",
    "    - https://www.oracle.com/technetwork/articles/java/index-137868.html\n",
    "\n",
    "- SonarLint\n",
    "    - https://www.sonarlint.org/\n",
    "    - https://www.vogella.com/tutorials/SonarQube/article.html"
   ]
  },
  {
   "cell_type": "code",
   "execution_count": null,
   "metadata": {},
   "outputs": [],
   "source": []
  }
 ],
 "metadata": {
  "kernelspec": {
   "display_name": "Python 3",
   "language": "python",
   "name": "python3"
  },
  "language_info": {
   "codemirror_mode": {
    "name": "ipython",
    "version": 3
   },
   "file_extension": ".py",
   "mimetype": "text/x-python",
   "name": "python",
   "nbconvert_exporter": "python",
   "pygments_lexer": "ipython3",
   "version": "3.7.6"
  }
 },
 "nbformat": 4,
 "nbformat_minor": 4
}
