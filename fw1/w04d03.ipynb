{
 "cells": [
  {
   "cell_type": "markdown",
   "metadata": {},
   "source": [
    "**Spring Web**\n",
    "\n",
    "- Spring Boot\n",
    "    - https://spring.io/projects/spring-boot#overview\n",
    "    - https://spring.io/guides/gs/rest-service/\n",
    "- Rest mappings like jax rs (last week)\n",
    "- Http methods (last week)\n",
    "- https://developer.okta.com/blog/2017/08/09/jax-rs-vs-spring-rest-endpoints\n",
    "- RestController\n",
    "    - https://www.baeldung.com/spring-boot-json\n",
    "    - https://www.baeldung.com/spring-controller-vs-restcontroller    \n",
    "- RestTemplate\n",
    "    - https://www.baeldung.com/rest-template"
   ]
  },
  {
   "cell_type": "code",
   "execution_count": null,
   "metadata": {},
   "outputs": [],
   "source": []
  }
 ],
 "metadata": {
  "kernelspec": {
   "display_name": "Python 3",
   "language": "python",
   "name": "python3"
  },
  "language_info": {
   "codemirror_mode": {
    "name": "ipython",
    "version": 3
   },
   "file_extension": ".py",
   "mimetype": "text/x-python",
   "name": "python",
   "nbconvert_exporter": "python",
   "pygments_lexer": "ipython3",
   "version": "3.7.6"
  }
 },
 "nbformat": 4,
 "nbformat_minor": 2
}
