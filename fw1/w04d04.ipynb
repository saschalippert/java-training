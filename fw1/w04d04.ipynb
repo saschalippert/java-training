{
 "cells": [
  {
   "cell_type": "markdown",
   "metadata": {},
   "source": [
    "**Junit**\n",
    "- assert\n",
    "- exceptions\n",
    "- unit testing\n",
    "- Annotations, ignore, beforeclass, test\n",
    "- method responsibility\n",
    "\n",
    "**Mockito**\n",
    "- create mock service\n",
    "- use mock service"
   ]
  }
 ],
 "metadata": {
  "kernelspec": {
   "display_name": "Python 3",
   "language": "python",
   "name": "python3"
  },
  "language_info": {
   "codemirror_mode": {
    "name": "ipython",
    "version": 3
   },
   "file_extension": ".py",
   "mimetype": "text/x-python",
   "name": "python",
   "nbconvert_exporter": "python",
   "pygments_lexer": "ipython3",
   "version": "3.7.6"
  }
 },
 "nbformat": 4,
 "nbformat_minor": 2
}
