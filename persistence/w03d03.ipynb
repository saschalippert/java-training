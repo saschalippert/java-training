{
 "cells": [
  {
   "cell_type": "markdown",
   "metadata": {},
   "source": [
    "**JPA/Hibernate**\n",
    "- https://www.javaworld.com/article/3379043/what-is-jpa-introduction-to-the-java-persistence-api.html\n",
    "- https://www.javaworld.com/article/3373652/java-persistence-with-jpa-and-hibernate-part-1-entities-and-relationships.html\n",
    "- Why working with objects instead of tables?\n",
    "- 3 Tier Architecture\n",
    "- Domain objects, DAO layer\n",
    "- Object-relation nagivation\n",
    "- JPA (Java Persistence API)\n",
    "    - ORM API\n",
    "    - Standard/API, no actual implementation\n",
    "    - CRUD operations out of the box\n",
    "    - Makes ORM mapping with JDBC redundant\n",
    "    - Complex operations\n",
    "        - JPQL (Java Persistence Query Language)\n",
    "        - SQL (Structured Query Language)\n",
    "    - Annotations or XML files define ORM mapping\n",
    "    - Entities\n",
    "    - EntityManager\n",
    "        - Performs database interactions\n",
    "        - Manages persistence context\n",
    "        - Configured by persistence.xml\n",
    "            - Persistence framework (eg Hibernate)\n",
    "            - Database connection\n",
    "            - Entities\n",
    "    - Persistence context\n",
    "        - Persistence state of objects/entities\n",
    "        - https://www.objectdb.com/java/jpa/persistence/managed\n",
    "    - JPA transactions\n",
    "- Hibernate\n",
    "    - Implementation of JPA\n",
    "    - Supported query languanges: JPQL, SQL, HQL\n",
    "    - Alternatives: EclipseLink, iBatis, ...\n",
    "- JPA Annotations\n",
    "    - @Entity: Marks class as entity to be managed by EntityManager\n",
    "    - @Table: Specifies the table a entity is mapped to\n",
    "    - @Id: Marks primary key\n",
    "    - @GeneratedValue: Defines strategy for primary key generation\n",
    "    - @EmbeddedId: Marks composite primary key\n",
    "    - @Embeddable: Specifies embeddable classes that may be used as composite primary key \n",
    "    - @Column: Specifies field column mapping\n",
    "    - @Lob: Marks large binary fields (byte arrays)\n",
    "    - @OneToOne: One to one relationship\n",
    "    - @OneToMany: One to many relationship\n",
    "    - @JoinColumn: Specifies column to join relationships on"
   ]
  },
  {
   "cell_type": "code",
   "execution_count": null,
   "metadata": {},
   "outputs": [],
   "source": []
  }
 ],
 "metadata": {
  "kernelspec": {
   "display_name": "Python 3",
   "language": "python",
   "name": "python3"
  },
  "language_info": {
   "codemirror_mode": {
    "name": "ipython",
    "version": 3
   },
   "file_extension": ".py",
   "mimetype": "text/x-python",
   "name": "python",
   "nbconvert_exporter": "python",
   "pygments_lexer": "ipython3",
   "version": "3.7.6"
  }
 },
 "nbformat": 4,
 "nbformat_minor": 2
}
